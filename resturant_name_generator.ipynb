{
 "cells": [
  {
   "cell_type": "code",
   "execution_count": 1,
   "id": "fc69348e",
   "metadata": {},
   "outputs": [
    {
     "ename": "ModuleNotFoundError",
     "evalue": "No module named 'langchain'",
     "output_type": "error",
     "traceback": [
      "\u001b[1;31m---------------------------------------------------------------------------\u001b[0m",
      "\u001b[1;31mModuleNotFoundError\u001b[0m                       Traceback (most recent call last)",
      "Cell \u001b[1;32mIn[1], line 1\u001b[0m\n\u001b[1;32m----> 1\u001b[0m \u001b[38;5;28;01mfrom\u001b[39;00m \u001b[38;5;21;01mlangchain\u001b[39;00m\u001b[38;5;21;01m.\u001b[39;00m\u001b[38;5;21;01mllms\u001b[39;00m \u001b[38;5;28;01mimport\u001b[39;00m OpenAI\n",
      "\u001b[1;31mModuleNotFoundError\u001b[0m: No module named 'langchain'"
     ]
    }
   ],
   "source": [
    "from langchain.llms import OpenAI"
   ]
  },
  {
   "cell_type": "code",
   "execution_count": 14,
   "id": "1408ad24",
   "metadata": {},
   "outputs": [],
   "source": [
    "llm= OpenAI(temperature=0.7,openai_api_key='')\n",
    "#name = llm(\"I want to open a resturant for Indian food. Suggest a fency name for this.\")"
   ]
  },
  {
   "cell_type": "code",
   "execution_count": 10,
   "id": "51d01613",
   "metadata": {},
   "outputs": [
    {
     "data": {
      "text/plain": [
       "'I want to open a resturant for Italian food. Suggest a fency name for this.'"
      ]
     },
     "execution_count": 10,
     "metadata": {},
     "output_type": "execute_result"
    }
   ],
   "source": [
    "from langchain.prompts import PromptTemplate\n",
    "\n",
    "prompt_template_name=PromptTemplate(\n",
    "    input_variables=['cuisine'],\n",
    "    template=\"I want to open a resturant for {cuisine} food. Suggest a fency name for this.\"\n",
    ")\n",
    "prompt_template_name.format(cuisine='Italian')\n"
   ]
  },
  {
   "cell_type": "code",
   "execution_count": 11,
   "id": "6d3a0af2",
   "metadata": {},
   "outputs": [
    {
     "data": {
      "text/plain": [
       "'\\n\\n\"The All-American Table\"'"
      ]
     },
     "execution_count": 11,
     "metadata": {},
     "output_type": "execute_result"
    }
   ],
   "source": [
    "from langchain.chains import LLMChain\n",
    "\n",
    "chain = LLMChain(llm=llm, prompt=prompt_template_name)\n",
    "chain.run('American')"
   ]
  },
  {
   "cell_type": "code",
   "execution_count": 12,
   "id": "6515dac6",
   "metadata": {},
   "outputs": [],
   "source": [
    "prompt_template_name=PromptTemplate(\n",
    "    input_variables=['cuisine'],\n",
    "    template=\"I want to open a resturant for {cuisine} food. Suggest a fency name for this.\"\n",
    ")\n",
    "name_chain = LLMChain(llm=llm, prompt=prompt_template_name)\n",
    "prompt_template_items=PromptTemplate(\n",
    "    input_variables=['resturant_name'],\n",
    "    template=\"Suggest some menu items for  {resturant_name} . Return as a coma sepreated value\"\n",
    ")\n",
    "food_items_chain =LLMChain(llm=llm, prompt=prompt_template_items)\n"
   ]
  },
  {
   "cell_type": "code",
   "execution_count": 13,
   "id": "758ca9e1",
   "metadata": {},
   "outputs": [
    {
     "name": "stdout",
     "output_type": "stream",
     "text": [
      "\n",
      "\n",
      "Chicken Tikka Masala, Lamb Rogan Josh, Vegetable Korma, Chana Masala, Saag Paneer, Aloo Gobi, Jeera Rice, Naan Bread, Mango Lassi, Gulab Jamun.\n"
     ]
    }
   ],
   "source": [
    "from langchain.chains import SimpleSequentialChain\n",
    "chain = SimpleSequentialChain(chains =[name_chain,food_items_chain])\n",
    "response =chain.run('Indian')\n",
    "print(response)"
   ]
  },
  {
   "cell_type": "code",
   "execution_count": 30,
   "id": "f7cbdee5",
   "metadata": {},
   "outputs": [],
   "source": [
    "prompt_template_name=PromptTemplate(\n",
    "    input_variables=['cuisine'],\n",
    "    template=\"I want to open a resturant for {cuisine} food. Suggest a fency name for this.\"\n",
    ")\n",
    "name_chain = LLMChain(llm=llm, prompt=prompt_template_name,output_key ='resturant_name')\n",
    "\n",
    "prompt_template_items=PromptTemplate(\n",
    "    input_variables=['resturant_name'],\n",
    "    template=\"Suggest some menu items for {resturant_name}. \"\n",
    ")\n",
    "food_items_chain =LLMChain(llm=llm, prompt=prompt_template_items, output_key='menu_items')\n"
   ]
  },
  {
   "cell_type": "code",
   "execution_count": 36,
   "id": "8f298e14",
   "metadata": {},
   "outputs": [
    {
     "data": {
      "text/plain": [
       "{'cuisine': 'Arabic',\n",
       " 'resturant_name': '\\n\\nAl Zahrawi Cuisine',\n",
       " 'menu_items': '\\n\\n• Lamb Shawarma \\n• Kebab Platter \\n• Hummus \\n• Lentil Soup \\n• Falafel \\n• Grilled Halloumi \\n• Zaatar Manakish \\n• Baba Ghanoush \\n• Fattoush Salad \\n• Tabbouleh \\n• Kofta Kebab \\n• Stuffed Grape Leaves \\n• Fried Kibbeh \\n• Chicken Tagine \\n• Mutabal \\n• Rice Pilaf'}"
      ]
     },
     "execution_count": 36,
     "metadata": {},
     "output_type": "execute_result"
    }
   ],
   "source": [
    "from langchain.chains import SequentialChain\n",
    "chain = SequentialChain(\n",
    "    chains =[name_chain, food_items_chain],\n",
    "    input_variables =['cuisine'],\n",
    "    output_variables=['resturant_name' ,'menu_items'],\n",
    ")\n",
    "\n",
    "chain({'cuisine': 'Arabic'})\n"
   ]
  },
  {
   "cell_type": "code",
   "execution_count": null,
   "id": "92865806",
   "metadata": {},
   "outputs": [],
   "source": []
  }
 ],
 "metadata": {
  "kernelspec": {
   "display_name": "Python 3 (ipykernel)",
   "language": "python",
   "name": "python3"
  },
  "language_info": {
   "codemirror_mode": {
    "name": "ipython",
    "version": 3
   },
   "file_extension": ".py",
   "mimetype": "text/x-python",
   "name": "python",
   "nbconvert_exporter": "python",
   "pygments_lexer": "ipython3",
   "version": "3.11.4"
  }
 },
 "nbformat": 4,
 "nbformat_minor": 5
}
